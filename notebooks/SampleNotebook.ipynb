{
 "cells": [
  {
   "cell_type": "markdown",
   "metadata": {},
   "source": [
    "# Sample Notebook\n",
    "\n",
    "This is a good starting point. The code below will attempt to load it's environment from AZD env to avoid having to copy paste values in `.env`. If you still want to load a `.env` file just update the code below."
   ]
  },
  {
   "cell_type": "code",
   "execution_count": 3,
   "metadata": {},
   "outputs": [
    {
     "name": "stdout",
     "output_type": "stream",
     "text": [
      "Found AZD environment. Loading...\n"
     ]
    },
    {
     "data": {
      "text/plain": [
       "False"
      ]
     },
     "execution_count": 3,
     "metadata": {},
     "output_type": "execute_result"
    }
   ],
   "source": [
    "from io import StringIO\n",
    "from subprocess import run, PIPE\n",
    "from dotenv import load_dotenv\n",
    "\n",
    "result = run(\"azd env get-values\", stdout=PIPE, stderr=PIPE, shell=True, text=True)\n",
    "if result.returncode == 0:\n",
    "    print(f\"Found AZD environment. Loading...\")\n",
    "    load_dotenv(stream=StringIO(result.stdout), override=True)\n",
    "# Loading environment variables from .env if it exists\n",
    "load_dotenv(override=True)"
   ]
  },
  {
   "cell_type": "markdown",
   "metadata": {},
   "source": [
    "## Connect to an Azure AI Foundry Project\n",
    "\n",
    "Thed code below showcases how you can connect to the provisioned infrastructure.\n",
    "\n",
    "To learn more about Azure AI Foundry SDK see https://learn.microsoft.com/en-us/azure/ai-studio/how-to/develop/sdk-overview"
   ]
  },
  {
   "cell_type": "code",
   "execution_count": null,
   "metadata": {},
   "outputs": [
    {
     "name": "stdout",
     "output_type": "stream",
     "text": [
      "**Whispers of the Blossoms**  \n",
      "\n",
      "In meadows bathed by gentle light,  \n",
      "A tapestry unfolds in sight.  \n",
      "Each petal speaks in hues so rare,  \n",
      "A fragrant poem fills the air.  \n",
      "\n",
      "The daffodils, like golden fire,  \n",
      "Awaken dreams, ignite desire.  \n",
      "While tulips stand, serene, refined,  \n",
      "A silent chorus, colors aligned.  \n",
      "\n",
      "The roses blush in crimson hue,  \n",
      "With stories old, yet ever new.  \n",
      "Their velvet touch, a soft caress,  \n",
      "A symbol of both love and mess.  \n",
      "\n",
      "Sunflowers, tall with faces bright,  \n",
      "They trace the arc of golden light.  \n",
      "A lesson there, for hearts to know:  \n",
      "To always face where warm winds blow.  \n",
      "\n",
      "Bluebells chime in shaded glades,  \n",
      "Where sunlight flickers, gently fades.  \n",
      "A secret song they seem to say,  \n",
      "Of solace found in dusk’s ballet.  \n",
      "\n",
      "Wild poppies blaze, a scarlet sea,  \n",
      "A fleeting glimpse of eternity.  \n",
      "They nod and dance with winds that call,  \n",
      "Reminding us how brief we all.  \n",
      "\n",
      "Each bloom a voice, a fleeting glance,  \n",
      "A moment locked in nature's dance.  \n",
      "In every petal, soft and small,  \n",
      "The universe, within them all.  \n",
      "\n",
      "So let the flowers paint your days,  \n",
      "With beauty stitched in life's own ways.  \n",
      "For in their whispers, loud and true,  \n",
      "The earth’s great heart is gifted you.  \n"
     ]
    }
   ],
   "source": [
    "import os\n",
    "from azure.identity import DefaultAzureCredential\n",
    "from azure.ai.projects import AIProjectClient\n",
    "\n",
    "project_connection_string= os.getenv(\"AZURE_AI_PROJECT_CONNECTION_STRING\")\n",
    "\n",
    "project = AIProjectClient.from_connection_string(\n",
    "  conn_str=project_connection_string,\n",
    "  credential=DefaultAzureCredential())\n",
    "\n",
    "openai = project.inference.get_azure_openai_client(api_version=os.getenv(\"AZURE_OPENAI_API_VERSION\"))\n",
    "response = openai.chat.completions.create(\n",
    "    model=os.getenv(\"AZURE_OPENAI_GPT4O_DEPLOYMENT_NAME\"),\n",
    "    messages=[\n",
    "        {\"role\": \"system\", \"content\": \"You are a helpful writing assistant\"},\n",
    "        {\"role\": \"user\", \"content\": \"Write me a poem about flowers\"},\n",
    "    ]\n",
    ")\n",
    "\n",
    "print(response.choices[0].message.content)"
   ]
  }
 ],
 "metadata": {
  "kernelspec": {
   "display_name": ".venv",
   "language": "python",
   "name": "python3"
  },
  "language_info": {
   "codemirror_mode": {
    "name": "ipython",
    "version": 3
   },
   "file_extension": ".py",
   "mimetype": "text/x-python",
   "name": "python",
   "nbconvert_exporter": "python",
   "pygments_lexer": "ipython3",
   "version": "3.12.8"
  }
 },
 "nbformat": 4,
 "nbformat_minor": 2
}
